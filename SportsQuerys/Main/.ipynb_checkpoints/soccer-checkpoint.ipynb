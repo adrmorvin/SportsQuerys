{
 "cells": [
  {
   "cell_type": "code",
   "execution_count": 9,
   "id": "58eea884-8467-4a1f-9dce-7dcb19c85b48",
   "metadata": {},
   "outputs": [
    {
     "data": {
      "text/plain": [
       "import org.apache.spark.sql._\n",
       "import org.apache.spark.sql.SparkSession\n"
      ]
     },
     "execution_count": 9,
     "metadata": {},
     "output_type": "execute_result"
    }
   ],
   "source": [
    "import org.apache.spark.sql._\n",
    "import org.apache.spark.sql.SparkSession"
   ]
  },
  {
   "cell_type": "code",
   "execution_count": null,
   "id": "e0e955d0-09db-4d06-bf07-ef8155156a8e",
   "metadata": {},
   "outputs": [],
   "source": []
  },
  {
   "cell_type": "code",
   "execution_count": 28,
   "id": "1c12d497-d9a3-405f-bc0b-7ff48a12f7d9",
   "metadata": {},
   "outputs": [
    {
     "data": {
      "text/plain": [
       "futboldata: org.apache.spark.sql.DataFrame = [Name: string, Club: string ... 17 more fields]\n"
      ]
     },
     "execution_count": 28,
     "metadata": {},
     "output_type": "execute_result"
    }
   ],
   "source": [
    "val futboldata = spark.read.option(\"header\",true).option(\"inferSchema\",\"true\").csv(\"football_epl_20_21.csv\")"
   ]
  },
  {
   "cell_type": "code",
   "execution_count": 95,
   "id": "fe5e2912-7f7c-4d5f-95ef-9c0ff4e7fc70",
   "metadata": {},
   "outputs": [
    {
     "name": "stdout",
     "output_type": "stream",
     "text": [
      "+-------------------+-------+-----------+--------+---+-------+------+----+-----+-------+----------------+---------------------+-------------+-----------------+----+----+------------+---------+------------------+\n",
      "|               Name|   Club|Nationality|Position|Age|Matches|Starts|Mins|Goals|Assists|Passes_Attempted|Perc_Passes_Completed|Penalty_Goals|Penalty_Attempted|  xG|  xA|Yellow_Cards|Red_Cards|Player_Recruitment|\n",
      "+-------------------+-------+-----------+--------+---+-------+------+----+-----+-------+----------------+---------------------+-------------+-----------------+----+----+------------+---------+------------------+\n",
      "|        Mason Mount|Chelsea|        ENG|   MF,FW| 21|     36|    32|2890|    6|      5|            1881|                 82.3|            1|                1|0.21|0.24|           2|        0|               YES|\n",
      "|      Edouard Mendy|Chelsea|        SEN|      GK| 28|     31|    31|2745|    0|      0|            1007|                 84.6|            0|                0| 0.0| 0.0|           2|        0|               YES|\n",
      "|        Timo Werner|Chelsea|        GER|      FW| 24|     35|    29|2602|    6|      8|             826|                 77.2|            0|                0|0.41|0.21|           2|        0|               YES|\n",
      "|       Ben Chilwell|Chelsea|        ENG|      DF| 23|     27|    27|2286|    3|      5|            1806|                 78.6|            0|                0| 0.1|0.11|           3|        0|               YES|\n",
      "|        Reece James|Chelsea|        ENG|      DF| 20|     32|    25|2373|    1|      2|            1987|                 85.0|            0|                0|0.06|0.12|           3|        0|                NO|\n",
      "|  César Azpilicueta|Chelsea|        ESP|      DF| 30|     26|    24|2188|    1|      2|            2015|                 87.5|            0|                0|0.03|0.11|           5|        1|                NO|\n",
      "|       N'Golo Kanté|Chelsea|        FRA|      MF| 29|     30|    24|2146|    0|      2|            1504|                 86.6|            0|                0|0.04|0.05|           7|        0|               YES|\n",
      "|           Jorginho|Chelsea|        ITA|      MF| 28|     28|    23|2010|    7|      1|            1739|                 89.5|            7|                9|0.31|0.09|           2|        0|               YES|\n",
      "|       Thiago Silva|Chelsea|        BRA|      DF| 35|     23|    23|1935|    2|      0|            1871|                 93.5|            0|                0|0.05|0.02|           5|        1|               YES|\n",
      "|         Kurt Zouma|Chelsea|        FRA|      DF| 25|     24|    22|2029|    5|      0|            1720|                 91.9|            0|                0|0.08| 0.0|           3|        0|                NO|\n",
      "|      Mateo Kovačić|Chelsea|        CRO|      MF| 26|     27|    21|1815|    0|      1|            1737|                 91.0|            0|                0|0.05|0.09|           4|        0|                NO|\n",
      "|    Antonio Rüdiger|Chelsea|        GER|      DF| 27|     19|    19|1710|    1|      0|            1476|                 90.7|            0|                0|0.06|0.02|           0|        0|               YES|\n",
      "|  Christian Pulisic|Chelsea|        USA|   FW,MF| 21|     27|    18|1738|    4|      2|             690|                 80.0|            0|                0|0.28|0.14|           2|        0|               YES|\n",
      "|        Kai Havertz|Chelsea|        GER|   MF,FW| 21|     27|    18|1520|    4|      3|             765|                 86.1|            0|                0|0.37|0.09|           2|        0|               YES|\n",
      "|Andreas Christensen|Chelsea|        DEN|      DF| 24|     17|    15|1371|    0|      0|            1089|                 92.8|            0|                0|0.01|0.02|           2|        1|               YES|\n",
      "|       Hakim Ziyech|Chelsea|        MAR|   FW,MF| 27|     23|    15|1172|    2|      3|             734|                 74.7|            0|                0|0.15|0.28|           3|        0|               YES|\n",
      "|      Tammy Abraham|Chelsea|        ENG|      FW| 22|     22|    12|1040|    6|      1|             218|                 68.3|            0|                0|0.56|0.07|           0|        0|               YES|\n",
      "|      Marcos Alonso|Chelsea|        ESP|      DF| 29|     13|    11| 960|    2|      0|             592|                 81.6|            0|                0|0.16|0.11|           2|        0|               YES|\n",
      "| Callum Hudson-Odoi|Chelsea|        ENG|   FW,DF| 19|     23|    10|1059|    2|      3|             659|                 82.2|            0|                0|0.12|0.26|           0|        0|               YES|\n",
      "|     Olivier Giroud|Chelsea|        FRA|      FW| 33|     17|     8| 748|    4|      0|             217|                 74.2|            0|                0|0.58|0.09|           1|        0|                NO|\n",
      "+-------------------+-------+-----------+--------+---+-------+------+----+-----+-------+----------------+---------------------+-------------+-----------------+----+----+------------+---------+------------------+\n",
      "only showing top 20 rows\n",
      "\n"
     ]
    }
   ],
   "source": [
    "futboldata.show()"
   ]
  },
  {
   "cell_type": "code",
   "execution_count": 32,
   "id": "4d00c7d6-51af-41e8-8936-57dc9758ef4f",
   "metadata": {},
   "outputs": [
    {
     "name": "stdout",
     "output_type": "stream",
     "text": [
      "root\n",
      " |-- Name: string (nullable = true)\n",
      " |-- Club: string (nullable = true)\n",
      " |-- Nationality: string (nullable = true)\n",
      " |-- Position: string (nullable = true)\n",
      " |-- Age: integer (nullable = true)\n",
      " |-- Matches: integer (nullable = true)\n",
      " |-- Starts: integer (nullable = true)\n",
      " |-- Mins: integer (nullable = true)\n",
      " |-- Goals: integer (nullable = true)\n",
      " |-- Assists: integer (nullable = true)\n",
      " |-- Passes_Attempted: integer (nullable = true)\n",
      " |-- Perc_Passes_Completed: double (nullable = true)\n",
      " |-- Penalty_Goals: integer (nullable = true)\n",
      " |-- Penalty_Attempted: integer (nullable = true)\n",
      " |-- xG: double (nullable = true)\n",
      " |-- xA: double (nullable = true)\n",
      " |-- Yellow_Cards: integer (nullable = true)\n",
      " |-- Red_Cards: integer (nullable = true)\n",
      " |-- Player_Recruitment: string (nullable = true)\n",
      "\n"
     ]
    }
   ],
   "source": [
    "futboldata.printSchema()"
   ]
  },
  {
   "cell_type": "code",
   "execution_count": 33,
   "id": "8132625b-4eb0-46a4-a43c-5728f1ff9bfb",
   "metadata": {},
   "outputs": [
    {
     "name": "stdout",
     "output_type": "stream",
     "text": [
      "+-----------+-----+\n",
      "|Nationality|count|\n",
      "+-----------+-----+\n",
      "|        ENG|  192|\n",
      "|        FRA|   31|\n",
      "|        BRA|   27|\n",
      "+-----------+-----+\n",
      "only showing top 3 rows\n",
      "\n"
     ]
    }
   ],
   "source": [
    "//Comprobar cuales son las 3 principales nacionalidades de jugadores en la liga inglesa\n",
    "futboldata.groupBy(\"Nationality\").count().orderBy(desc(\"count\")).show(3)"
   ]
  },
  {
   "cell_type": "code",
   "execution_count": 39,
   "id": "fd32ac8a-c521-4bf7-803b-00d1330b3148",
   "metadata": {},
   "outputs": [
    {
     "name": "stdout",
     "output_type": "stream",
     "text": [
      "+-------------------+-------+\n",
      "|               Name|Matches|\n",
      "+-------------------+-------+\n",
      "|   Andrew Robertson|     38|\n",
      "|Georginio Wijnaldum|     38|\n",
      "|  Kasper Schmeichel|     38|\n",
      "|    Youri Tielemans|     38|\n",
      "|       Tomáš Souček|     38|\n",
      "|       Jarrod Bowen|     38|\n",
      "|    Pierre Højbjerg|     38|\n",
      "|        Hugo Lloris|     38|\n",
      "|      Stuart Dallas|     38|\n",
      "|        Luke Ayling|     38|\n",
      "|    Patrick Bamford|     38|\n",
      "|  Emiliano Martínez|     38|\n",
      "|       Matt Targett|     38|\n",
      "|  James Ward-Prowse|     38|\n",
      "|    Ashley Westwood|     38|\n",
      "|     Aaron Ramsdale|     38|\n",
      "+-------------------+-------+\n",
      "\n"
     ]
    }
   ],
   "source": [
    "//Jugadores que han disputado todos los partidos\n",
    "futboldata.select(\"Name\",\"Matches\").filter(col(\"Matches\").equalTo(38)).show()"
   ]
  },
  {
   "cell_type": "code",
   "execution_count": 75,
   "id": "b4745d5e-893c-4d71-a0de-0a3c9a303383",
   "metadata": {},
   "outputs": [
    {
     "name": "stdout",
     "output_type": "stream",
     "text": [
      "+-------------+-------------+\n",
      "|         Name|goals/matches|\n",
      "+-------------+-------------+\n",
      "|   Harry Kane|         0.66|\n",
      "|Mohamed Salah|         0.59|\n",
      "|  Joe Willock|         0.57|\n",
      "|Jesse Lingard|         0.56|\n",
      "|  Gareth Bale|         0.55|\n",
      "+-------------+-------------+\n",
      "only showing top 5 rows\n",
      "\n"
     ]
    }
   ],
   "source": [
    "//Los 5 jugadores que tienen mayor porcentaje de gol por partido\n",
    "futboldata.withColumn(\"goals/matches\",round(col(\"Goals\")/(col(\"Matches\")),2)).select(\"Name\",\"goals/matches\").orderBy(desc(\"goals/matches\")).show(5)"
   ]
  },
  {
   "cell_type": "code",
   "execution_count": 51,
   "id": "292c0f41-896e-43ff-b01f-73b4d4502c77",
   "metadata": {},
   "outputs": [
    {
     "name": "stdout",
     "output_type": "stream",
     "text": [
      "+--------------------+---+\n",
      "|                Name|Age|\n",
      "+--------------------+---+\n",
      "|  Carney Chukwuemeka| 16|\n",
      "|   Antwoine Hackford| 16|\n",
      "|     Shola Shoretire| 16|\n",
      "|       Dane Scarlett| 16|\n",
      "|     Hannibal Mejbri| 17|\n",
      "|     Elliot Anderson| 17|\n",
      "|     Daniel Jebbison| 17|\n",
      "|         Femi Seriki| 17|\n",
      "| William Thomas Fish| 17|\n",
      "|          Liam Delap| 17|\n",
      "|    Lewis Richardson| 17|\n",
      "|      Fabio Carvalho| 17|\n",
      "|     Mason Greenwood| 18|\n",
      "|      Sidnei Tavares| 18|\n",
      "|         Amad Diallo| 18|\n",
      "|         Bukayo Saka| 18|\n",
      "|      Ki-Jana Hoever| 18|\n",
      "|      Anthony Elanga| 18|\n",
      "|Jaden Philogene B...| 18|\n",
      "|       Theo Corbeanu| 18|\n",
      "+--------------------+---+\n",
      "only showing top 20 rows\n",
      "\n"
     ]
    }
   ],
   "source": [
    "//jugador más joven\n",
    "futboldata.select(\"Name\",\"Age\").orderBy(\"Age\").show()"
   ]
  },
  {
   "cell_type": "code",
   "execution_count": 57,
   "id": "f2d2c1df-f415-4eef-a645-fd523aad00ea",
   "metadata": {},
   "outputs": [
    {
     "name": "stdout",
     "output_type": "stream",
     "text": [
      "+--------------------+-----+\n",
      "|                Club|count|\n",
      "+--------------------+-----+\n",
      "|            Brighton|   27|\n",
      "|   Manchester United|   29|\n",
      "|             Arsenal|   29|\n",
      "|    Sheffield United|   27|\n",
      "|    Newcastle United|   27|\n",
      "|        Leeds United|   23|\n",
      "|      Crystal Palace|   24|\n",
      "|             Burnley|   25|\n",
      "|         Aston Villa|   24|\n",
      "|     Manchester City|   24|\n",
      "|              Fulham|   28|\n",
      "|         Southampton|   29|\n",
      "|      Leicester City|   27|\n",
      "|   Tottenham Hotspur|   24|\n",
      "|Wolverhampton Wan...|   27|\n",
      "|        Liverpool FC|   28|\n",
      "|West Bromwich Albion|   30|\n",
      "|             Chelsea|   27|\n",
      "|     West Ham United|   24|\n",
      "|             Everton|   29|\n",
      "+--------------------+-----+\n",
      "\n"
     ]
    }
   ],
   "source": [
    "//jugadores por club\n",
    "futboldata.groupBy(\"Club\").count().show()"
   ]
  },
  {
   "cell_type": "code",
   "execution_count": 59,
   "id": "48e483f2-de2b-448b-afff-a34eb8824953",
   "metadata": {},
   "outputs": [
    {
     "name": "stdout",
     "output_type": "stream",
     "text": [
      "+--------+\n",
      "|Position|\n",
      "+--------+\n",
      "|   MF,DF|\n",
      "|   FW,DF|\n",
      "|      FW|\n",
      "|      GK|\n",
      "|   DF,MF|\n",
      "|      MF|\n",
      "|      DF|\n",
      "|   DF,FW|\n",
      "|   FW,MF|\n",
      "|   MF,FW|\n",
      "+--------+\n",
      "\n"
     ]
    }
   ],
   "source": [
    "//distintas posiciones que existen\n",
    "futboldata.select(\"Position\").distinct().show()"
   ]
  },
  {
   "cell_type": "code",
   "execution_count": 62,
   "id": "7bcedb83-9a80-4929-a688-746aa226e5dd",
   "metadata": {},
   "outputs": [
    {
     "name": "stdout",
     "output_type": "stream",
     "text": [
      "+-------------+------------+----+\n",
      "|         Name|        Club|Mins|\n",
      "+-------------+------------+----+\n",
      "|Stuart Dallas|Leeds United|3409|\n",
      "| Matt Targett| Aston Villa|3404|\n",
      "|  Luke Ayling|Leeds United|3399|\n",
      "+-------------+------------+----+\n",
      "only showing top 3 rows\n",
      "\n"
     ]
    }
   ],
   "source": [
    "//3 defensas con mas minutos jugados y su club\n",
    "futboldata.filter(col(\"Position\").contains(\"DF\")).select(\"Name\", \"Club\", \"Mins\").orderBy(desc(\"Mins\")).show(3)"
   ]
  },
  {
   "cell_type": "code",
   "execution_count": 71,
   "id": "1687a9ca-5135-4ad2-9f4b-0afcad8e297e",
   "metadata": {},
   "outputs": [
    {
     "name": "stdout",
     "output_type": "stream",
     "text": [
      "+--------------------+-------+----------+\n",
      "|                Name|   Club|percentaje|\n",
      "+--------------------+-------+----------+\n",
      "|          Bernd Leno|Arsenal|     0.915|\n",
      "|         Mathew Ryan|Arsenal|     0.079|\n",
      "|Rúnar Alex Rúnarsson|Arsenal|     0.005|\n",
      "+--------------------+-------+----------+\n",
      "\n"
     ]
    }
   ],
   "source": [
    "//los porteros del Arsenal y su porcentaje de partidos de titular\n",
    "futboldata.filter(col(\"Club\").equalTo(\"Arsenal\") && col(\"Position\").equalTo(\"GK\")).withColumn(\"percentaje\",round((col(\"Mins\")/lit(38*90)),3)).select(\"Name\", \"Club\", \"percentaje\").show"
   ]
  },
  {
   "cell_type": "code",
   "execution_count": 83,
   "id": "ce8226f3-4104-4469-aa75-b5738ad53915",
   "metadata": {},
   "outputs": [
    {
     "name": "stdout",
     "output_type": "stream",
     "text": [
      "+--------------------+------------------+\n",
      "|                Club|          avg(Age)|\n",
      "+--------------------+------------------+\n",
      "|   Manchester United|23.862068965517242|\n",
      "|         Southampton|24.137931034482758|\n",
      "|         Aston Villa|24.291666666666668|\n",
      "|Wolverhampton Wan...|24.444444444444443|\n",
      "|            Brighton|24.555555555555557|\n",
      "|    Sheffield United|24.814814814814813|\n",
      "|             Arsenal| 24.96551724137931|\n",
      "|              Fulham|25.035714285714285|\n",
      "|        Leeds United|25.347826086956523|\n",
      "|             Everton|25.413793103448278|\n",
      "|        Liverpool FC|25.571428571428573|\n",
      "|      Leicester City| 25.59259259259259|\n",
      "|             Chelsea| 25.59259259259259|\n",
      "|   Tottenham Hotspur|            25.625|\n",
      "|     Manchester City|25.708333333333332|\n",
      "|    Newcastle United|26.074074074074073|\n",
      "|West Bromwich Albion|26.766666666666666|\n",
      "|             Burnley|             27.04|\n",
      "|     West Ham United|              27.5|\n",
      "|      Crystal Palace|28.333333333333332|\n",
      "+--------------------+------------------+\n",
      "\n"
     ]
    }
   ],
   "source": [
    "//edad media por club\n",
    "futboldata.groupBy(\"Club\").avg(\"Age\").orderBy(\"avg(Age)\").show()"
   ]
  },
  {
   "cell_type": "code",
   "execution_count": 98,
   "id": "1d5beb11-0962-41e0-aefa-3f386fb14704",
   "metadata": {},
   "outputs": [
    {
     "name": "stdout",
     "output_type": "stream",
     "text": [
      "+--------------------+-----------------+\n",
      "|                Club|sum(Yellow_Cards)|\n",
      "+--------------------+-----------------+\n",
      "|    Sheffield United|               73|\n",
      "|         Aston Villa|               71|\n",
      "|              Fulham|               67|\n",
      "|    Newcastle United|               65|\n",
      "|   Manchester United|               64|\n",
      "|      Leicester City|               61|\n",
      "|        Leeds United|               61|\n",
      "|             Everton|               59|\n",
      "|   Tottenham Hotspur|               57|\n",
      "|      Crystal Palace|               56|\n",
      "|Wolverhampton Wan...|               55|\n",
      "|         Southampton|               52|\n",
      "|West Bromwich Albion|               51|\n",
      "|             Chelsea|               51|\n",
      "|     West Ham United|               50|\n",
      "|            Brighton|               49|\n",
      "|             Arsenal|               49|\n",
      "|             Burnley|               48|\n",
      "|     Manchester City|               46|\n",
      "|        Liverpool FC|               40|\n",
      "+--------------------+-----------------+\n",
      "\n"
     ]
    }
   ],
   "source": [
    "//total de tarjetas amarillas por equipo \n",
    "futboldata.groupBy(\"Club\").sum(\"Yellow_Cards\").orderBy(desc(\"sum(Yellow_Cards)\")).show()"
   ]
  },
  {
   "cell_type": "code",
   "execution_count": null,
   "id": "ce72b433-e822-4d3d-9a80-a6af3ec9ea6d",
   "metadata": {},
   "outputs": [],
   "source": []
  }
 ],
 "metadata": {
  "kernelspec": {
   "display_name": "spylon-kernel",
   "language": "scala",
   "name": "spylon-kernel"
  },
  "language_info": {
   "codemirror_mode": "text/x-scala",
   "file_extension": ".scala",
   "help_links": [
    {
     "text": "MetaKernel Magics",
     "url": "https://metakernel.readthedocs.io/en/latest/source/README.html"
    }
   ],
   "mimetype": "text/x-scala",
   "name": "scala",
   "pygments_lexer": "scala",
   "version": "0.4.1"
  }
 },
 "nbformat": 4,
 "nbformat_minor": 5
}
